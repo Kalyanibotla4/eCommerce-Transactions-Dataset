{
 "cells": [
  {
   "cell_type": "code",
   "execution_count": 2,
   "id": "5a731259-956c-486d-9b0f-63915d4c39db",
   "metadata": {},
   "outputs": [],
   "source": [
    "import numpy as np\n",
    "import pandas as pd\n",
    "import seaborn as sns\n",
    "import matplotlib.pyplot as plt"
   ]
  },
  {
   "cell_type": "code",
   "execution_count": 4,
   "id": "cd77ddf9-cda8-4636-ba9e-a89a84299086",
   "metadata": {},
   "outputs": [],
   "source": [
    "from sklearn.metrics.pairwise import cosine_similarity\n",
    "from sklearn.preprocessing import StandardScaler"
   ]
  },
  {
   "cell_type": "code",
   "execution_count": 6,
   "id": "8d8b446e-feb7-4672-99f5-4e5933dd657a",
   "metadata": {},
   "outputs": [],
   "source": [
    "#load and read datasets\n",
    "customers=pd.read_csv('Customers.csv')\n",
    "products=pd.read_csv('Products.csv')\n",
    "transactions=pd.read_csv('Transactions.csv')\n"
   ]
  },
  {
   "cell_type": "code",
   "execution_count": 32,
   "id": "22a86e9e-7b78-4771-8ccd-e7797cca8df7",
   "metadata": {},
   "outputs": [],
   "source": [
    "# Merge datasets\n",
    "transactions.rename(columns={'Price': 'Price_Transactions'}, inplace=True)\n",
    "products.rename(columns={'Price': 'Price_Products'}, inplace=True)\n",
    "data=transactions.merge(customers,on='CustomerID',how='left').merge(products,on='ProductID',how='left')"
   ]
  },
  {
   "cell_type": "code",
   "execution_count": 34,
   "id": "4acc7918-5ef5-4fc1-8e2d-126cf9113c4b",
   "metadata": {},
   "outputs": [
    {
     "data": {
      "text/html": [
       "<div>\n",
       "<style scoped>\n",
       "    .dataframe tbody tr th:only-of-type {\n",
       "        vertical-align: middle;\n",
       "    }\n",
       "\n",
       "    .dataframe tbody tr th {\n",
       "        vertical-align: top;\n",
       "    }\n",
       "\n",
       "    .dataframe thead th {\n",
       "        text-align: right;\n",
       "    }\n",
       "</style>\n",
       "<table border=\"1\" class=\"dataframe\">\n",
       "  <thead>\n",
       "    <tr style=\"text-align: right;\">\n",
       "      <th></th>\n",
       "      <th>TransactionID</th>\n",
       "      <th>CustomerID</th>\n",
       "      <th>ProductID</th>\n",
       "      <th>TransactionDate</th>\n",
       "      <th>Quantity</th>\n",
       "      <th>TotalValue</th>\n",
       "      <th>Price_Transactions</th>\n",
       "      <th>CustomerName</th>\n",
       "      <th>Region</th>\n",
       "      <th>SignupDate</th>\n",
       "      <th>ProductName</th>\n",
       "      <th>Category</th>\n",
       "      <th>Price_Products</th>\n",
       "    </tr>\n",
       "  </thead>\n",
       "  <tbody>\n",
       "    <tr>\n",
       "      <th>0</th>\n",
       "      <td>T00001</td>\n",
       "      <td>C0199</td>\n",
       "      <td>P067</td>\n",
       "      <td>2024-08-25 12:38:23</td>\n",
       "      <td>1</td>\n",
       "      <td>300.68</td>\n",
       "      <td>300.68</td>\n",
       "      <td>Andrea Jenkins</td>\n",
       "      <td>Europe</td>\n",
       "      <td>2022-12-03</td>\n",
       "      <td>ComfortLiving Bluetooth Speaker</td>\n",
       "      <td>Electronics</td>\n",
       "      <td>300.68</td>\n",
       "    </tr>\n",
       "    <tr>\n",
       "      <th>1</th>\n",
       "      <td>T00112</td>\n",
       "      <td>C0146</td>\n",
       "      <td>P067</td>\n",
       "      <td>2024-05-27 22:23:54</td>\n",
       "      <td>1</td>\n",
       "      <td>300.68</td>\n",
       "      <td>300.68</td>\n",
       "      <td>Brittany Harvey</td>\n",
       "      <td>Asia</td>\n",
       "      <td>2024-09-04</td>\n",
       "      <td>ComfortLiving Bluetooth Speaker</td>\n",
       "      <td>Electronics</td>\n",
       "      <td>300.68</td>\n",
       "    </tr>\n",
       "    <tr>\n",
       "      <th>2</th>\n",
       "      <td>T00166</td>\n",
       "      <td>C0127</td>\n",
       "      <td>P067</td>\n",
       "      <td>2024-04-25 07:38:55</td>\n",
       "      <td>1</td>\n",
       "      <td>300.68</td>\n",
       "      <td>300.68</td>\n",
       "      <td>Kathryn Stevens</td>\n",
       "      <td>Europe</td>\n",
       "      <td>2024-04-04</td>\n",
       "      <td>ComfortLiving Bluetooth Speaker</td>\n",
       "      <td>Electronics</td>\n",
       "      <td>300.68</td>\n",
       "    </tr>\n",
       "    <tr>\n",
       "      <th>3</th>\n",
       "      <td>T00272</td>\n",
       "      <td>C0087</td>\n",
       "      <td>P067</td>\n",
       "      <td>2024-03-26 22:55:37</td>\n",
       "      <td>2</td>\n",
       "      <td>601.36</td>\n",
       "      <td>300.68</td>\n",
       "      <td>Travis Campbell</td>\n",
       "      <td>South America</td>\n",
       "      <td>2024-04-11</td>\n",
       "      <td>ComfortLiving Bluetooth Speaker</td>\n",
       "      <td>Electronics</td>\n",
       "      <td>300.68</td>\n",
       "    </tr>\n",
       "    <tr>\n",
       "      <th>4</th>\n",
       "      <td>T00363</td>\n",
       "      <td>C0070</td>\n",
       "      <td>P067</td>\n",
       "      <td>2024-03-21 15:10:10</td>\n",
       "      <td>3</td>\n",
       "      <td>902.04</td>\n",
       "      <td>300.68</td>\n",
       "      <td>Timothy Perez</td>\n",
       "      <td>Europe</td>\n",
       "      <td>2022-03-15</td>\n",
       "      <td>ComfortLiving Bluetooth Speaker</td>\n",
       "      <td>Electronics</td>\n",
       "      <td>300.68</td>\n",
       "    </tr>\n",
       "  </tbody>\n",
       "</table>\n",
       "</div>"
      ],
      "text/plain": [
       "  TransactionID CustomerID ProductID      TransactionDate  Quantity  \\\n",
       "0        T00001      C0199      P067  2024-08-25 12:38:23         1   \n",
       "1        T00112      C0146      P067  2024-05-27 22:23:54         1   \n",
       "2        T00166      C0127      P067  2024-04-25 07:38:55         1   \n",
       "3        T00272      C0087      P067  2024-03-26 22:55:37         2   \n",
       "4        T00363      C0070      P067  2024-03-21 15:10:10         3   \n",
       "\n",
       "   TotalValue  Price_Transactions     CustomerName         Region  SignupDate  \\\n",
       "0      300.68              300.68   Andrea Jenkins         Europe  2022-12-03   \n",
       "1      300.68              300.68  Brittany Harvey           Asia  2024-09-04   \n",
       "2      300.68              300.68  Kathryn Stevens         Europe  2024-04-04   \n",
       "3      601.36              300.68  Travis Campbell  South America  2024-04-11   \n",
       "4      902.04              300.68    Timothy Perez         Europe  2022-03-15   \n",
       "\n",
       "                       ProductName     Category  Price_Products  \n",
       "0  ComfortLiving Bluetooth Speaker  Electronics          300.68  \n",
       "1  ComfortLiving Bluetooth Speaker  Electronics          300.68  \n",
       "2  ComfortLiving Bluetooth Speaker  Electronics          300.68  \n",
       "3  ComfortLiving Bluetooth Speaker  Electronics          300.68  \n",
       "4  ComfortLiving Bluetooth Speaker  Electronics          300.68  "
      ]
     },
     "execution_count": 34,
     "metadata": {},
     "output_type": "execute_result"
    }
   ],
   "source": [
    "data.head()"
   ]
  },
  {
   "cell_type": "code",
   "execution_count": 36,
   "id": "fdac7625-5023-4a64-842e-8ac2f4decf6e",
   "metadata": {},
   "outputs": [],
   "source": [
    "#prepare data for lookalike model\n",
    "\n",
    "lookalike_data=data.groupby('CustomerID').agg({\n",
    "    'TotalValue':'sum',\n",
    "    'Quantity': 'sum',\n",
    "    'Price_Products':'mean', #used producs price for caluculations\n",
    "    'Region':'first'\n",
    "}).reset_index()"
   ]
  },
  {
   "cell_type": "code",
   "execution_count": 38,
   "id": "4b630a83-9ea5-4e45-bbf4-27c29bddb484",
   "metadata": {},
   "outputs": [],
   "source": [
    "# categorical data\n",
    "\n",
    "lookalike_data['Region']=lookalike_data['Region'].astype('category').cat.codes"
   ]
  },
  {
   "cell_type": "code",
   "execution_count": 40,
   "id": "f76e754c-3ec1-4181-8f9f-46fc1456d98f",
   "metadata": {},
   "outputs": [],
   "source": [
    "#standardize data\n",
    "scaler=StandardScaler()\n",
    "sca_features=scaler.fit_transform(lookalike_data.drop('CustomerID',axis=1))"
   ]
  },
  {
   "cell_type": "code",
   "execution_count": 42,
   "id": "e921215b-a09d-41e3-a789-77bd6ffc90b6",
   "metadata": {},
   "outputs": [],
   "source": [
    "#similarity matrix\n",
    "sim_matrix=cosine_similarity(sca_features)\n",
    "sim_df=pd.DataFrame(sim_matrix,index=lookalike_data['CustomerID'], columns=lookalike_data['CustomerID'])"
   ]
  },
  {
   "cell_type": "code",
   "execution_count": 44,
   "id": "3db60a30-c7bd-4ce0-9783-cc0a9eb0191f",
   "metadata": {},
   "outputs": [],
   "source": [
    "#generate lookalike recommendations\n",
    "\n",
    "recommendations={}\n",
    "for i in sim_df.index[:20]:\n",
    "    sim_customers=sim_df[i].sort_values(ascending=False).index[1:4]\n",
    "    scores=sim_df.loc[i,sim_customers]\n",
    "    recommendations[i]=list(zip(sim_customers,scores))"
   ]
  },
  {
   "cell_type": "code",
   "execution_count": 48,
   "id": "aa2b9b63-4313-4e06-9c29-a2ad056c6225",
   "metadata": {},
   "outputs": [],
   "source": [
    "#save csv\n",
    "lookalike_df=pd.DataFrame({\n",
    "    'CistomerID':recommendations.keys(),\n",
    "    'SimilarCustomers':[str(recommendations[c]) for c in recommendations.keys()]\n",
    "})\n",
    "lookalike_df.to_csv('kalyani_botla_Lookalike.csv',index=False)"
   ]
  },
  {
   "cell_type": "code",
   "execution_count": null,
   "id": "a09f6804-e7b2-4c7d-9b7c-f354f1777ec2",
   "metadata": {},
   "outputs": [],
   "source": []
  },
  {
   "cell_type": "code",
   "execution_count": null,
   "id": "10432199-e1e7-41f0-9a8c-89d72550ecbc",
   "metadata": {},
   "outputs": [],
   "source": []
  },
  {
   "cell_type": "code",
   "execution_count": null,
   "id": "cc2ae4e8-a695-4b19-a61c-50883aad5bf9",
   "metadata": {},
   "outputs": [],
   "source": []
  },
  {
   "cell_type": "code",
   "execution_count": null,
   "id": "2f0135ca-3171-4736-b98f-21e2e88920dd",
   "metadata": {},
   "outputs": [],
   "source": []
  },
  {
   "cell_type": "code",
   "execution_count": null,
   "id": "47f6da13-6c1c-4bce-ac3d-b1cd0415d2b9",
   "metadata": {},
   "outputs": [],
   "source": []
  },
  {
   "cell_type": "code",
   "execution_count": null,
   "id": "6bd51325-6af5-44ad-9ace-49b7fd27e887",
   "metadata": {},
   "outputs": [],
   "source": []
  }
 ],
 "metadata": {
  "kernelspec": {
   "display_name": "Python 3 (ipykernel)",
   "language": "python",
   "name": "python3"
  },
  "language_info": {
   "codemirror_mode": {
    "name": "ipython",
    "version": 3
   },
   "file_extension": ".py",
   "mimetype": "text/x-python",
   "name": "python",
   "nbconvert_exporter": "python",
   "pygments_lexer": "ipython3",
   "version": "3.12.7"
  }
 },
 "nbformat": 4,
 "nbformat_minor": 5
}
