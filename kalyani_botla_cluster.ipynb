{
 "cells": [
  {
   "cell_type": "code",
   "execution_count": 67,
   "id": "8e843059-3cb6-4827-a708-a98d16adcd60",
   "metadata": {},
   "outputs": [],
   "source": [
    "#importing the libraries\n",
    "import os\n",
    "import pandas as pd\n",
    "import numpy as np\n",
    "from sklearn.cluster import KMeans\n",
    "from sklearn.preprocessing import StandardScaler\n",
    "from sklearn.metrics import davies_bouldin_score,silhouette_score\n",
    "import matplotlib.pyplot as plt\n",
    "import seaborn as sns\n",
    "import warnings"
   ]
  },
  {
   "cell_type": "code",
   "execution_count": 69,
   "id": "4e9689e1-bdd2-455e-b1f6-9da6d3525f8c",
   "metadata": {},
   "outputs": [],
   "source": [
    "# Suppress specific warnings\n",
    "warnings.filterwarnings(\"ignore\", category=UserWarning, module=\"sklearn\")\n",
    "\n",
    "# Avoid potential memory leaks on Windows with MKL\n",
    "os.environ[\"OMP_NUM_THREADS\"] = \"1\""
   ]
  },
  {
   "cell_type": "code",
   "execution_count": 71,
   "id": "1a158d93-3a57-42c1-9aff-61ba92d4c3ac",
   "metadata": {},
   "outputs": [],
   "source": [
    "# loading the datasets\n",
    "\n",
    "customers=pd.read_csv('Customers.csv')\n",
    "products=pd.read_csv('Products.csv')\n",
    "transactions=pd.read_csv('Transactions.csv')"
   ]
  },
  {
   "cell_type": "code",
   "execution_count": 73,
   "id": "079eb010-9672-4ffb-8399-729ec752aa9d",
   "metadata": {},
   "outputs": [],
   "source": [
    "# chaing the dates preprocessing\n",
    "customers['SignupDate']=pd.to_datetime(customers['SignupDate'])\n",
    "transactions['TransactionDate']=pd.to_datetime(transactions['TransactionDate'])"
   ]
  },
  {
   "cell_type": "code",
   "execution_count": 75,
   "id": "fa5aea76-5872-4061-a916-69f8f53bf591",
   "metadata": {},
   "outputs": [],
   "source": [
    "#merge the datasets\n",
    "\n",
    "data=transactions.merge(customers,on='CustomerID',how='left').merge(products,on='ProductID',how='left')"
   ]
  },
  {
   "cell_type": "code",
   "execution_count": 77,
   "id": "08f5f5cb-b9e9-4451-983e-741b3c581e31",
   "metadata": {},
   "outputs": [
    {
     "data": {
      "text/plain": [
       "CustomerID              object\n",
       "CustomerName            object\n",
       "Region                  object\n",
       "SignupDate      datetime64[ns]\n",
       "dtype: object"
      ]
     },
     "execution_count": 77,
     "metadata": {},
     "output_type": "execute_result"
    }
   ],
   "source": [
    "customers.dtypes"
   ]
  },
  {
   "cell_type": "code",
   "execution_count": 79,
   "id": "517563c4-1896-499f-a76a-45d93143fc70",
   "metadata": {},
   "outputs": [
    {
     "data": {
      "text/plain": [
       "ProductID       object\n",
       "ProductName     object\n",
       "Category        object\n",
       "Price          float64\n",
       "dtype: object"
      ]
     },
     "execution_count": 79,
     "metadata": {},
     "output_type": "execute_result"
    }
   ],
   "source": [
    "products.dtypes"
   ]
  },
  {
   "cell_type": "code",
   "execution_count": 81,
   "id": "40ee2cac-8d36-48e7-ba8b-0c2b5ebc7a41",
   "metadata": {},
   "outputs": [
    {
     "data": {
      "text/plain": [
       "TransactionID              object\n",
       "CustomerID                 object\n",
       "ProductID                  object\n",
       "TransactionDate    datetime64[ns]\n",
       "Quantity                    int64\n",
       "TotalValue                float64\n",
       "Price                     float64\n",
       "dtype: object"
      ]
     },
     "execution_count": 81,
     "metadata": {},
     "output_type": "execute_result"
    }
   ],
   "source": [
    "transactions.dtypes"
   ]
  },
  {
   "cell_type": "code",
   "execution_count": 83,
   "id": "2d1a7214-1d3b-4098-8748-01e9c2e02797",
   "metadata": {},
   "outputs": [
    {
     "data": {
      "text/plain": [
       "TransactionID              object\n",
       "CustomerID                 object\n",
       "ProductID                  object\n",
       "TransactionDate    datetime64[ns]\n",
       "Quantity                    int64\n",
       "TotalValue                float64\n",
       "Price_x                   float64\n",
       "CustomerName               object\n",
       "Region                     object\n",
       "SignupDate         datetime64[ns]\n",
       "ProductName                object\n",
       "Category                   object\n",
       "Price_y                   float64\n",
       "dtype: object"
      ]
     },
     "execution_count": 83,
     "metadata": {},
     "output_type": "execute_result"
    }
   ],
   "source": [
    "data.dtypes"
   ]
  },
  {
   "cell_type": "code",
   "execution_count": 85,
   "id": "5971972a-16ad-4a93-a8c3-2ed2cd4439d7",
   "metadata": {},
   "outputs": [],
   "source": [
    "data.rename(columns={\n",
    "    'Price_x':'TransactionPrice',\n",
    "    'Price_y':'ProductPrice'\n",
    "},inplace=True)"
   ]
  },
  {
   "cell_type": "code",
   "execution_count": 87,
   "id": "f7246e0c-1199-4bcd-a404-1fdfdff10da9",
   "metadata": {},
   "outputs": [
    {
     "data": {
      "text/plain": [
       "TransactionID               object\n",
       "CustomerID                  object\n",
       "ProductID                   object\n",
       "TransactionDate     datetime64[ns]\n",
       "Quantity                     int64\n",
       "TotalValue                 float64\n",
       "TransactionPrice           float64\n",
       "CustomerName                object\n",
       "Region                      object\n",
       "SignupDate          datetime64[ns]\n",
       "ProductName                 object\n",
       "Category                    object\n",
       "ProductPrice               float64\n",
       "dtype: object"
      ]
     },
     "execution_count": 87,
     "metadata": {},
     "output_type": "execute_result"
    }
   ],
   "source": [
    "data.dtypes"
   ]
  },
  {
   "cell_type": "code",
   "execution_count": 89,
   "id": "1cb647f7-2dd0-4945-83fa-c152828e7cb2",
   "metadata": {},
   "outputs": [
    {
     "data": {
      "text/html": [
       "<div>\n",
       "<style scoped>\n",
       "    .dataframe tbody tr th:only-of-type {\n",
       "        vertical-align: middle;\n",
       "    }\n",
       "\n",
       "    .dataframe tbody tr th {\n",
       "        vertical-align: top;\n",
       "    }\n",
       "\n",
       "    .dataframe thead th {\n",
       "        text-align: right;\n",
       "    }\n",
       "</style>\n",
       "<table border=\"1\" class=\"dataframe\">\n",
       "  <thead>\n",
       "    <tr style=\"text-align: right;\">\n",
       "      <th></th>\n",
       "      <th>TransactionID</th>\n",
       "      <th>CustomerID</th>\n",
       "      <th>ProductID</th>\n",
       "      <th>TransactionDate</th>\n",
       "      <th>Quantity</th>\n",
       "      <th>TotalValue</th>\n",
       "      <th>TransactionPrice</th>\n",
       "      <th>CustomerName</th>\n",
       "      <th>Region</th>\n",
       "      <th>SignupDate</th>\n",
       "      <th>ProductName</th>\n",
       "      <th>Category</th>\n",
       "      <th>ProductPrice</th>\n",
       "    </tr>\n",
       "  </thead>\n",
       "  <tbody>\n",
       "    <tr>\n",
       "      <th>0</th>\n",
       "      <td>T00001</td>\n",
       "      <td>C0199</td>\n",
       "      <td>P067</td>\n",
       "      <td>2024-08-25 12:38:23</td>\n",
       "      <td>1</td>\n",
       "      <td>300.68</td>\n",
       "      <td>300.68</td>\n",
       "      <td>Andrea Jenkins</td>\n",
       "      <td>Europe</td>\n",
       "      <td>2022-12-03</td>\n",
       "      <td>ComfortLiving Bluetooth Speaker</td>\n",
       "      <td>Electronics</td>\n",
       "      <td>300.68</td>\n",
       "    </tr>\n",
       "    <tr>\n",
       "      <th>1</th>\n",
       "      <td>T00112</td>\n",
       "      <td>C0146</td>\n",
       "      <td>P067</td>\n",
       "      <td>2024-05-27 22:23:54</td>\n",
       "      <td>1</td>\n",
       "      <td>300.68</td>\n",
       "      <td>300.68</td>\n",
       "      <td>Brittany Harvey</td>\n",
       "      <td>Asia</td>\n",
       "      <td>2024-09-04</td>\n",
       "      <td>ComfortLiving Bluetooth Speaker</td>\n",
       "      <td>Electronics</td>\n",
       "      <td>300.68</td>\n",
       "    </tr>\n",
       "    <tr>\n",
       "      <th>2</th>\n",
       "      <td>T00166</td>\n",
       "      <td>C0127</td>\n",
       "      <td>P067</td>\n",
       "      <td>2024-04-25 07:38:55</td>\n",
       "      <td>1</td>\n",
       "      <td>300.68</td>\n",
       "      <td>300.68</td>\n",
       "      <td>Kathryn Stevens</td>\n",
       "      <td>Europe</td>\n",
       "      <td>2024-04-04</td>\n",
       "      <td>ComfortLiving Bluetooth Speaker</td>\n",
       "      <td>Electronics</td>\n",
       "      <td>300.68</td>\n",
       "    </tr>\n",
       "    <tr>\n",
       "      <th>3</th>\n",
       "      <td>T00272</td>\n",
       "      <td>C0087</td>\n",
       "      <td>P067</td>\n",
       "      <td>2024-03-26 22:55:37</td>\n",
       "      <td>2</td>\n",
       "      <td>601.36</td>\n",
       "      <td>300.68</td>\n",
       "      <td>Travis Campbell</td>\n",
       "      <td>South America</td>\n",
       "      <td>2024-04-11</td>\n",
       "      <td>ComfortLiving Bluetooth Speaker</td>\n",
       "      <td>Electronics</td>\n",
       "      <td>300.68</td>\n",
       "    </tr>\n",
       "    <tr>\n",
       "      <th>4</th>\n",
       "      <td>T00363</td>\n",
       "      <td>C0070</td>\n",
       "      <td>P067</td>\n",
       "      <td>2024-03-21 15:10:10</td>\n",
       "      <td>3</td>\n",
       "      <td>902.04</td>\n",
       "      <td>300.68</td>\n",
       "      <td>Timothy Perez</td>\n",
       "      <td>Europe</td>\n",
       "      <td>2022-03-15</td>\n",
       "      <td>ComfortLiving Bluetooth Speaker</td>\n",
       "      <td>Electronics</td>\n",
       "      <td>300.68</td>\n",
       "    </tr>\n",
       "  </tbody>\n",
       "</table>\n",
       "</div>"
      ],
      "text/plain": [
       "  TransactionID CustomerID ProductID     TransactionDate  Quantity  \\\n",
       "0        T00001      C0199      P067 2024-08-25 12:38:23         1   \n",
       "1        T00112      C0146      P067 2024-05-27 22:23:54         1   \n",
       "2        T00166      C0127      P067 2024-04-25 07:38:55         1   \n",
       "3        T00272      C0087      P067 2024-03-26 22:55:37         2   \n",
       "4        T00363      C0070      P067 2024-03-21 15:10:10         3   \n",
       "\n",
       "   TotalValue  TransactionPrice     CustomerName         Region SignupDate  \\\n",
       "0      300.68            300.68   Andrea Jenkins         Europe 2022-12-03   \n",
       "1      300.68            300.68  Brittany Harvey           Asia 2024-09-04   \n",
       "2      300.68            300.68  Kathryn Stevens         Europe 2024-04-04   \n",
       "3      601.36            300.68  Travis Campbell  South America 2024-04-11   \n",
       "4      902.04            300.68    Timothy Perez         Europe 2022-03-15   \n",
       "\n",
       "                       ProductName     Category  ProductPrice  \n",
       "0  ComfortLiving Bluetooth Speaker  Electronics        300.68  \n",
       "1  ComfortLiving Bluetooth Speaker  Electronics        300.68  \n",
       "2  ComfortLiving Bluetooth Speaker  Electronics        300.68  \n",
       "3  ComfortLiving Bluetooth Speaker  Electronics        300.68  \n",
       "4  ComfortLiving Bluetooth Speaker  Electronics        300.68  "
      ]
     },
     "execution_count": 89,
     "metadata": {},
     "output_type": "execute_result"
    }
   ],
   "source": [
    "data.head()"
   ]
  },
  {
   "cell_type": "code",
   "execution_count": 91,
   "id": "f9224806-0ce3-45ee-bf2b-e0d9d919d121",
   "metadata": {},
   "outputs": [],
   "source": [
    "# feature Engineering for clustering\n",
    "cus_features=data.groupby('CustomerID').agg({\n",
    "    'TotalValue':'sum',\n",
    "    'Quantity':'sum',\n",
    "    'TransactionPrice':'mean'\n",
    "}).reset_index()\n",
    "cus_features=cus_features.merge(customers[['CustomerID','Region']],on='CustomerID')"
   ]
  },
  {
   "cell_type": "code",
   "execution_count": 93,
   "id": "40b6bcc7-9b78-48df-b74f-211084b7e84f",
   "metadata": {},
   "outputs": [],
   "source": [
    "# encode the region column\n",
    "cus_features=pd.get_dummies(cus_features,columns=['Region'])"
   ]
  },
  {
   "cell_type": "code",
   "execution_count": 95,
   "id": "8e9b6ef6-116e-4ea6-8bbc-62eb5c95bf0f",
   "metadata": {},
   "outputs": [
    {
     "data": {
      "text/html": [
       "<div>\n",
       "<style scoped>\n",
       "    .dataframe tbody tr th:only-of-type {\n",
       "        vertical-align: middle;\n",
       "    }\n",
       "\n",
       "    .dataframe tbody tr th {\n",
       "        vertical-align: top;\n",
       "    }\n",
       "\n",
       "    .dataframe thead th {\n",
       "        text-align: right;\n",
       "    }\n",
       "</style>\n",
       "<table border=\"1\" class=\"dataframe\">\n",
       "  <thead>\n",
       "    <tr style=\"text-align: right;\">\n",
       "      <th></th>\n",
       "      <th>CustomerID</th>\n",
       "      <th>TotalValue</th>\n",
       "      <th>Quantity</th>\n",
       "      <th>TransactionPrice</th>\n",
       "      <th>Region_Asia</th>\n",
       "      <th>Region_Europe</th>\n",
       "      <th>Region_North America</th>\n",
       "      <th>Region_South America</th>\n",
       "    </tr>\n",
       "  </thead>\n",
       "  <tbody>\n",
       "    <tr>\n",
       "      <th>0</th>\n",
       "      <td>C0001</td>\n",
       "      <td>3354.52</td>\n",
       "      <td>12</td>\n",
       "      <td>278.334000</td>\n",
       "      <td>False</td>\n",
       "      <td>False</td>\n",
       "      <td>False</td>\n",
       "      <td>True</td>\n",
       "    </tr>\n",
       "    <tr>\n",
       "      <th>1</th>\n",
       "      <td>C0002</td>\n",
       "      <td>1862.74</td>\n",
       "      <td>10</td>\n",
       "      <td>208.920000</td>\n",
       "      <td>True</td>\n",
       "      <td>False</td>\n",
       "      <td>False</td>\n",
       "      <td>False</td>\n",
       "    </tr>\n",
       "    <tr>\n",
       "      <th>2</th>\n",
       "      <td>C0003</td>\n",
       "      <td>2725.38</td>\n",
       "      <td>14</td>\n",
       "      <td>195.707500</td>\n",
       "      <td>False</td>\n",
       "      <td>False</td>\n",
       "      <td>False</td>\n",
       "      <td>True</td>\n",
       "    </tr>\n",
       "    <tr>\n",
       "      <th>3</th>\n",
       "      <td>C0004</td>\n",
       "      <td>5354.88</td>\n",
       "      <td>23</td>\n",
       "      <td>240.636250</td>\n",
       "      <td>False</td>\n",
       "      <td>False</td>\n",
       "      <td>False</td>\n",
       "      <td>True</td>\n",
       "    </tr>\n",
       "    <tr>\n",
       "      <th>4</th>\n",
       "      <td>C0005</td>\n",
       "      <td>2034.24</td>\n",
       "      <td>7</td>\n",
       "      <td>291.603333</td>\n",
       "      <td>True</td>\n",
       "      <td>False</td>\n",
       "      <td>False</td>\n",
       "      <td>False</td>\n",
       "    </tr>\n",
       "  </tbody>\n",
       "</table>\n",
       "</div>"
      ],
      "text/plain": [
       "  CustomerID  TotalValue  Quantity  TransactionPrice  Region_Asia  \\\n",
       "0      C0001     3354.52        12        278.334000        False   \n",
       "1      C0002     1862.74        10        208.920000         True   \n",
       "2      C0003     2725.38        14        195.707500        False   \n",
       "3      C0004     5354.88        23        240.636250        False   \n",
       "4      C0005     2034.24         7        291.603333         True   \n",
       "\n",
       "   Region_Europe  Region_North America  Region_South America  \n",
       "0          False                 False                  True  \n",
       "1          False                 False                 False  \n",
       "2          False                 False                  True  \n",
       "3          False                 False                  True  \n",
       "4          False                 False                 False  "
      ]
     },
     "execution_count": 95,
     "metadata": {},
     "output_type": "execute_result"
    }
   ],
   "source": [
    "cus_features.head()"
   ]
  },
  {
   "cell_type": "code",
   "execution_count": 97,
   "id": "456f8749-5ed6-4a8e-a379-7a3c58c5f025",
   "metadata": {},
   "outputs": [],
   "source": [
    "#standardize features\n",
    "scaler=StandardScaler()\n",
    "scl_features=scaler.fit_transform(cus_features.drop(columns=['CustomerID']))"
   ]
  },
  {
   "cell_type": "code",
   "execution_count": 99,
   "id": "e7ab69a3-cf23-44ce-b3df-04af67258316",
   "metadata": {},
   "outputs": [
    {
     "data": {
      "text/plain": [
       "array([[-0.06170143, -0.12203296,  0.09467022, ..., -0.57928445,\n",
       "        -0.54831888,  1.54041597],\n",
       "       [-0.87774353, -0.44800021, -0.90401592, ..., -0.57928445,\n",
       "        -0.54831888, -0.6491753 ],\n",
       "       [-0.40585722,  0.20393428, -1.09410928, ..., -0.57928445,\n",
       "        -0.54831888,  1.54041597],\n",
       "       ...,\n",
       "       [-1.38697529, -1.58888557, -0.46110018, ...,  1.72626765,\n",
       "        -0.54831888, -0.6491753 ],\n",
       "       [-0.81399315, -0.61098383, -0.30420572, ...,  1.72626765,\n",
       "        -0.54831888, -0.6491753 ],\n",
       "       [ 0.70636652,  0.52990153,  0.35611784, ..., -0.57928445,\n",
       "        -0.54831888, -0.6491753 ]])"
      ]
     },
     "execution_count": 99,
     "metadata": {},
     "output_type": "execute_result"
    }
   ],
   "source": [
    "scl_features"
   ]
  },
  {
   "cell_type": "code",
   "execution_count": 115,
   "id": "7957ec3b-4ce4-46dc-a15d-6fccf60d9053",
   "metadata": {},
   "outputs": [
    {
     "data": {
      "image/png": "[encoded data removed]",
      "text/plain": [
       "<Figure size 800x500 with 1 Axes>"
      ]
     },
     "metadata": {},
     "output_type": "display_data"
    }
   ],
   "source": [
    "inert=[]\n",
    "k_values=range(2,11)\n",
    "for k in k_values:\n",
    "    kmeans=KMeans(n_clusters=k,random_state=45,n_init=10)\n",
    "    kmeans.fit(scl_features)\n",
    "    inert.append(kmeans.inertia_)\n",
    "plt.figure(figsize=(8,5))\n",
    "plt.plot(k_values,inert,marker='o',linestyle='--')\n",
    "plt.title('Elbow method to Deterime optimal clusters')\n",
    "plt.xlabel('number of clusters')\n",
    "plt.ylabel('Inertia')\n",
    "plt.grid()\n",
    "plt.show()"
   ]
  },
  {
   "cell_type": "code",
   "execution_count": 117,
   "id": "2dccc35d-37fc-44b3-a552-77979842975f",
   "metadata": {},
   "outputs": [],
   "source": [
    "#apply kmeans clustring\n",
    "\n",
    "op=4\n",
    "kmeans=KMeans(n_clusters=op,random_state=42)\n",
    "clu=kmeans.fit_predict(scl_features)\n"
   ]
  },
  {
   "cell_type": "code",
   "execution_count": 119,
   "id": "1e92a6af-6724-4845-87e9-e4db64c6c895",
   "metadata": {},
   "outputs": [],
   "source": [
    "#add cluster labels\n",
    "cus_features['cluster']=clu"
   ]
  },
  {
   "cell_type": "code",
   "execution_count": 121,
   "id": "ceabfc7a-1f17-4727-a8a1-af8e224fca83",
   "metadata": {},
   "outputs": [],
   "source": [
    "#evaluate clustring using Davdavies_bouldin_score and silhouette score\n",
    "\n",
    "db_index=davies_bouldin_score(scl_features,clu)\n",
    "sil_score=silhouette_score(scl_features,clu)"
   ]
  },
  {
   "cell_type": "code",
   "execution_count": 123,
   "id": "c5aeffe2-ada0-40a2-9601-44e28472ec86",
   "metadata": {},
   "outputs": [
    {
     "data": {
      "text/plain": [
       "0.9319194864587907"
      ]
     },
     "execution_count": 123,
     "metadata": {},
     "output_type": "execute_result"
    }
   ],
   "source": [
    "db_index"
   ]
  },
  {
   "cell_type": "code",
   "execution_count": 125,
   "id": "0466298a-c8f8-430b-8fa9-ff2f89d0a80f",
   "metadata": {},
   "outputs": [
    {
     "data": {
      "text/plain": [
       "0.46339635926529227"
      ]
     },
     "execution_count": 125,
     "metadata": {},
     "output_type": "execute_result"
    }
   ],
   "source": [
    "sil_score"
   ]
  },
  {
   "cell_type": "code",
   "execution_count": null,
   "id": "a0d17a39-cb99-414f-960a-ab59abf6ab2e",
   "metadata": {},
   "outputs": [],
   "source": []
  },
  {
   "cell_type": "code",
   "execution_count": 127,
   "id": "6ae7048d-08eb-4976-b564-b13cd517b473",
   "metadata": {},
   "outputs": [
    {
     "data": {
      "image/png": "[encoded data removed]",
      "text/plain": [
       "<Figure size 1000x700 with 1 Axes>"
      ]
     },
     "metadata": {},
     "output_type": "display_data"
    }
   ],
   "source": [
    "#visualize clusters\n",
    "plt.figure(figsize=(10,7))\n",
    "sns.scatterplot(\n",
    "    x=scl_features[:,0],\n",
    "    y=scl_features[:,1],\n",
    "    hue=clu,\n",
    "    palette=\"viridis\",\n",
    "    legend='full')\n",
    "plt.title('Customer Clusters')\n",
    "plt.xlabel('Feature 1')\n",
    "plt.ylabel('Feature 2')\n",
    "plt.grid()\n",
    "plt.show()"
   ]
  },
  {
   "cell_type": "code",
   "execution_count": 129,
   "id": "58364f2e-4bfa-4d94-b980-ffc122406dc5",
   "metadata": {},
   "outputs": [],
   "source": [
    "cus_features.to_csv('kalyani_botla_clustring.csv',index=False)"
   ]
  },
  {
   "cell_type": "code",
   "execution_count": 152,
   "id": "2411b9f7-0405-455b-96ca-e7d3c501b5b1",
   "metadata": {},
   "outputs": [
    {
     "name": "stdout",
     "output_type": "stream",
     "text": [
      "Optimal number of clusters: 4\n"
     ]
    }
   ],
   "source": [
    "print(f\"Optimal number of clusters: {op}\")"
   ]
  },
  {
   "cell_type": "code",
   "execution_count": null,
   "id": "ed9268b4-5d2d-44a8-9cf9-e2f55f57f7b7",
   "metadata": {},
   "outputs": [],
   "source": []
  },
  {
   "cell_type": "code",
   "execution_count": null,
   "id": "bf42fb69-5d19-46e1-a51e-eb41f20db3c4",
   "metadata": {},
   "outputs": [],
   "source": []
  },
  {
   "cell_type": "code",
   "execution_count": null,
   "id": "5d4960a8-87c4-4ef0-add4-f06577ca643a",
   "metadata": {},
   "outputs": [],
   "source": []
  },
  {
   "cell_type": "code",
   "execution_count": null,
   "id": "1620f03e-47e3-4e80-bccf-e2e4d43672b0",
   "metadata": {},
   "outputs": [],
   "source": []
  },
  {
   "cell_type": "code",
   "execution_count": null,
   "id": "8116063f-86fb-4439-848d-0cfee6aa0202",
   "metadata": {},
   "outputs": [],
   "source": []
  },
  {
   "cell_type": "code",
   "execution_count": null,
   "id": "c3fa9e83-5e46-4946-8c6f-00c5355950a7",
   "metadata": {},
   "outputs": [],
   "source": []
  },
  {
   "cell_type": "code",
   "execution_count": null,
   "id": "d3c2ce4d-b915-48d0-b819-151903f20ac6",
   "metadata": {},
   "outputs": [],
   "source": []
  },
  {
   "cell_type": "code",
   "execution_count": null,
   "id": "f915b5d4-2454-48a6-8640-8f42cedcb627",
   "metadata": {},
   "outputs": [],
   "source": []
  },
  {
   "cell_type": "code",
   "execution_count": null,
   "id": "4f7ad352-6129-4e33-b906-214efd5436ac",
   "metadata": {},
   "outputs": [],
   "source": []
  },
  {
   "cell_type": "code",
   "execution_count": null,
   "id": "3fe5e2db-1fd9-4547-942e-14a4750336a7",
   "metadata": {},
   "outputs": [],
   "source": []
  },
  {
   "cell_type": "code",
   "execution_count": null,
   "id": "390fd10f-9642-4ad6-8363-39648472732f",
   "metadata": {},
   "outputs": [],
   "source": []
  },
  {
   "cell_type": "code",
   "execution_count": null,
   "id": "9f6c371b-7280-4498-95e3-8efb2e089831",
   "metadata": {},
   "outputs": [],
   "source": []
  }
 ],
 "metadata": {
  "kernelspec": {
   "display_name": "Python 3 (ipykernel)",
   "language": "python",
   "name": "python3"
  },
  "language_info": {
   "codemirror_mode": {
    "name": "ipython",
    "version": 3
   },
   "file_extension": ".py",
   "mimetype": "text/x-python",
   "name": "python",
   "nbconvert_exporter": "python",
   "pygments_lexer": "ipython3",
   "version": "3.12.7"
  }
 },
 "nbformat": 4,
 "nbformat_minor": 5
}
